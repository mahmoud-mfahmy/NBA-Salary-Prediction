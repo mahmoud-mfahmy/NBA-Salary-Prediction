{
 "cells": [
  {
   "cell_type": "code",
   "execution_count": 11,
   "metadata": {},
   "outputs": [],
   "source": [
    "import pandas as pd\n",
    "from matplotlib import pyplot as plt\n",
    "import seaborn as sns\n",
    "import numpy as np"
   ]
  },
  {
   "cell_type": "code",
   "execution_count": 12,
   "metadata": {},
   "outputs": [],
   "source": [
    "data = pd.read_csv('statsandsal.csv')"
   ]
  },
  {
   "cell_type": "code",
   "execution_count": 13,
   "metadata": {},
   "outputs": [
    {
     "data": {
      "text/html": [
       "<div>\n",
       "<style scoped>\n",
       "    .dataframe tbody tr th:only-of-type {\n",
       "        vertical-align: middle;\n",
       "    }\n",
       "\n",
       "    .dataframe tbody tr th {\n",
       "        vertical-align: top;\n",
       "    }\n",
       "\n",
       "    .dataframe thead th {\n",
       "        text-align: right;\n",
       "    }\n",
       "</style>\n",
       "<table border=\"1\" class=\"dataframe\">\n",
       "  <thead>\n",
       "    <tr style=\"text-align: right;\">\n",
       "      <th></th>\n",
       "      <th>Rk</th>\n",
       "      <th>Player</th>\n",
       "      <th>Pos</th>\n",
       "      <th>Age</th>\n",
       "      <th>Tm</th>\n",
       "      <th>G</th>\n",
       "      <th>GS</th>\n",
       "      <th>MP</th>\n",
       "      <th>FG</th>\n",
       "      <th>FGA</th>\n",
       "      <th>...</th>\n",
       "      <th>DWS</th>\n",
       "      <th>WS</th>\n",
       "      <th>WS/48</th>\n",
       "      <th>OBPM</th>\n",
       "      <th>DBPM</th>\n",
       "      <th>BPM</th>\n",
       "      <th>VORP</th>\n",
       "      <th>RK</th>\n",
       "      <th>Team</th>\n",
       "      <th>Salary</th>\n",
       "    </tr>\n",
       "  </thead>\n",
       "  <tbody>\n",
       "    <tr>\n",
       "      <th>0</th>\n",
       "      <td>1</td>\n",
       "      <td>Jeff Adrien</td>\n",
       "      <td>PF</td>\n",
       "      <td>25</td>\n",
       "      <td>HOU</td>\n",
       "      <td>8</td>\n",
       "      <td>0</td>\n",
       "      <td>7.9</td>\n",
       "      <td>0.9</td>\n",
       "      <td>2.0</td>\n",
       "      <td>...</td>\n",
       "      <td>0.1</td>\n",
       "      <td>0.1</td>\n",
       "      <td>0.106</td>\n",
       "      <td>-4.0</td>\n",
       "      <td>-0.2</td>\n",
       "      <td>-4.3</td>\n",
       "      <td>0.0</td>\n",
       "      <td>513</td>\n",
       "      <td>Houston Rockets</td>\n",
       "      <td>$762,195</td>\n",
       "    </tr>\n",
       "    <tr>\n",
       "      <th>1</th>\n",
       "      <td>2</td>\n",
       "      <td>Arron Afflalo</td>\n",
       "      <td>SG</td>\n",
       "      <td>26</td>\n",
       "      <td>DEN</td>\n",
       "      <td>62</td>\n",
       "      <td>62</td>\n",
       "      <td>33.6</td>\n",
       "      <td>5.3</td>\n",
       "      <td>11.3</td>\n",
       "      <td>...</td>\n",
       "      <td>0.6</td>\n",
       "      <td>5.3</td>\n",
       "      <td>0.121</td>\n",
       "      <td>1.4</td>\n",
       "      <td>-1.2</td>\n",
       "      <td>0.1</td>\n",
       "      <td>1.1</td>\n",
       "      <td>79</td>\n",
       "      <td>Denver Nuggets</td>\n",
       "      <td>$7,750,000</td>\n",
       "    </tr>\n",
       "    <tr>\n",
       "      <th>2</th>\n",
       "      <td>3</td>\n",
       "      <td>Blake Ahearn</td>\n",
       "      <td>PG</td>\n",
       "      <td>27</td>\n",
       "      <td>UTA</td>\n",
       "      <td>4</td>\n",
       "      <td>0</td>\n",
       "      <td>7.5</td>\n",
       "      <td>1.0</td>\n",
       "      <td>3.5</td>\n",
       "      <td>...</td>\n",
       "      <td>0.0</td>\n",
       "      <td>-0.2</td>\n",
       "      <td>-0.315</td>\n",
       "      <td>-12.7</td>\n",
       "      <td>-6.8</td>\n",
       "      <td>-19.5</td>\n",
       "      <td>-0.1</td>\n",
       "      <td>601</td>\n",
       "      <td>Utah Jazz</td>\n",
       "      <td>$117,134</td>\n",
       "    </tr>\n",
       "    <tr>\n",
       "      <th>3</th>\n",
       "      <td>4</td>\n",
       "      <td>Solomon Alabi</td>\n",
       "      <td>C</td>\n",
       "      <td>23</td>\n",
       "      <td>TOR</td>\n",
       "      <td>14</td>\n",
       "      <td>0</td>\n",
       "      <td>8.7</td>\n",
       "      <td>0.9</td>\n",
       "      <td>2.6</td>\n",
       "      <td>...</td>\n",
       "      <td>0.2</td>\n",
       "      <td>0.2</td>\n",
       "      <td>0.083</td>\n",
       "      <td>-2.9</td>\n",
       "      <td>0.7</td>\n",
       "      <td>-2.2</td>\n",
       "      <td>0.0</td>\n",
       "      <td>462</td>\n",
       "      <td>Toronto Raptors</td>\n",
       "      <td>$830,000</td>\n",
       "    </tr>\n",
       "    <tr>\n",
       "      <th>4</th>\n",
       "      <td>5</td>\n",
       "      <td>Cole Aldrich</td>\n",
       "      <td>C</td>\n",
       "      <td>23</td>\n",
       "      <td>OKC</td>\n",
       "      <td>26</td>\n",
       "      <td>0</td>\n",
       "      <td>6.7</td>\n",
       "      <td>0.8</td>\n",
       "      <td>1.6</td>\n",
       "      <td>...</td>\n",
       "      <td>0.4</td>\n",
       "      <td>0.6</td>\n",
       "      <td>0.176</td>\n",
       "      <td>-1.3</td>\n",
       "      <td>2.2</td>\n",
       "      <td>1.0</td>\n",
       "      <td>0.1</td>\n",
       "      <td>259</td>\n",
       "      <td>Oklahoma City Thunder</td>\n",
       "      <td>$2,286,000</td>\n",
       "    </tr>\n",
       "  </tbody>\n",
       "</table>\n",
       "<p>5 rows × 59 columns</p>\n",
       "</div>"
      ],
      "text/plain": [
       "   Rk         Player Pos  Age   Tm   G  GS    MP   FG   FGA  ...  DWS   WS  \\\n",
       "0   1    Jeff Adrien  PF   25  HOU   8   0   7.9  0.9   2.0  ...  0.1  0.1   \n",
       "1   2  Arron Afflalo  SG   26  DEN  62  62  33.6  5.3  11.3  ...  0.6  5.3   \n",
       "2   3   Blake Ahearn  PG   27  UTA   4   0   7.5  1.0   3.5  ...  0.0 -0.2   \n",
       "3   4  Solomon Alabi   C   23  TOR  14   0   8.7  0.9   2.6  ...  0.2  0.2   \n",
       "4   5   Cole Aldrich   C   23  OKC  26   0   6.7  0.8   1.6  ...  0.4  0.6   \n",
       "\n",
       "   WS/48  OBPM  DBPM   BPM  VORP   RK                   Team       Salary  \n",
       "0  0.106  -4.0  -0.2  -4.3   0.0  513        Houston Rockets    $762,195   \n",
       "1  0.121   1.4  -1.2   0.1   1.1   79         Denver Nuggets  $7,750,000   \n",
       "2 -0.315 -12.7  -6.8 -19.5  -0.1  601              Utah Jazz    $117,134   \n",
       "3  0.083  -2.9   0.7  -2.2   0.0  462        Toronto Raptors    $830,000   \n",
       "4  0.176  -1.3   2.2   1.0   0.1  259  Oklahoma City Thunder  $2,286,000   \n",
       "\n",
       "[5 rows x 59 columns]"
      ]
     },
     "execution_count": 13,
     "metadata": {},
     "output_type": "execute_result"
    }
   ],
   "source": [
    "data.head()"
   ]
  },
  {
   "cell_type": "code",
   "execution_count": 14,
   "metadata": {},
   "outputs": [
    {
     "data": {
      "text/html": [
       "<div>\n",
       "<style scoped>\n",
       "    .dataframe tbody tr th:only-of-type {\n",
       "        vertical-align: middle;\n",
       "    }\n",
       "\n",
       "    .dataframe tbody tr th {\n",
       "        vertical-align: top;\n",
       "    }\n",
       "\n",
       "    .dataframe thead th {\n",
       "        text-align: right;\n",
       "    }\n",
       "</style>\n",
       "<table border=\"1\" class=\"dataframe\">\n",
       "  <thead>\n",
       "    <tr style=\"text-align: right;\">\n",
       "      <th></th>\n",
       "      <th>Rk</th>\n",
       "      <th>Age</th>\n",
       "      <th>G</th>\n",
       "      <th>GS</th>\n",
       "      <th>MP</th>\n",
       "      <th>FG</th>\n",
       "      <th>FGA</th>\n",
       "      <th>FG%</th>\n",
       "      <th>3P</th>\n",
       "      <th>3PA</th>\n",
       "      <th>...</th>\n",
       "      <th>USG%</th>\n",
       "      <th>OWS</th>\n",
       "      <th>DWS</th>\n",
       "      <th>WS</th>\n",
       "      <th>WS/48</th>\n",
       "      <th>OBPM</th>\n",
       "      <th>DBPM</th>\n",
       "      <th>BPM</th>\n",
       "      <th>VORP</th>\n",
       "      <th>RK</th>\n",
       "    </tr>\n",
       "  </thead>\n",
       "  <tbody>\n",
       "    <tr>\n",
       "      <th>count</th>\n",
       "      <td>3990.000000</td>\n",
       "      <td>3990.000000</td>\n",
       "      <td>3990.000000</td>\n",
       "      <td>3990.000000</td>\n",
       "      <td>3990.000000</td>\n",
       "      <td>3990.000000</td>\n",
       "      <td>3990.000000</td>\n",
       "      <td>3985.000000</td>\n",
       "      <td>3990.000000</td>\n",
       "      <td>3990.000000</td>\n",
       "      <td>...</td>\n",
       "      <td>3989.000000</td>\n",
       "      <td>3990.000000</td>\n",
       "      <td>3990.000000</td>\n",
       "      <td>3990.000000</td>\n",
       "      <td>3989.000000</td>\n",
       "      <td>3990.000000</td>\n",
       "      <td>3990.000000</td>\n",
       "      <td>3990.000000</td>\n",
       "      <td>3990.000000</td>\n",
       "      <td>3990.000000</td>\n",
       "    </tr>\n",
       "    <tr>\n",
       "      <th>mean</th>\n",
       "      <td>249.476190</td>\n",
       "      <td>26.376441</td>\n",
       "      <td>52.921303</td>\n",
       "      <td>25.548371</td>\n",
       "      <td>20.675414</td>\n",
       "      <td>3.234987</td>\n",
       "      <td>7.182531</td>\n",
       "      <td>0.443645</td>\n",
       "      <td>0.750376</td>\n",
       "      <td>2.140125</td>\n",
       "      <td>...</td>\n",
       "      <td>18.800552</td>\n",
       "      <td>1.358647</td>\n",
       "      <td>1.248872</td>\n",
       "      <td>2.607945</td>\n",
       "      <td>0.080998</td>\n",
       "      <td>-1.103985</td>\n",
       "      <td>-0.107769</td>\n",
       "      <td>-1.212130</td>\n",
       "      <td>0.635940</td>\n",
       "      <td>256.091479</td>\n",
       "    </tr>\n",
       "    <tr>\n",
       "      <th>std</th>\n",
       "      <td>144.030772</td>\n",
       "      <td>4.290486</td>\n",
       "      <td>23.274611</td>\n",
       "      <td>28.120172</td>\n",
       "      <td>9.041004</td>\n",
       "      <td>2.122870</td>\n",
       "      <td>4.481663</td>\n",
       "      <td>0.088854</td>\n",
       "      <td>0.754054</td>\n",
       "      <td>1.970726</td>\n",
       "      <td>...</td>\n",
       "      <td>5.330403</td>\n",
       "      <td>1.962194</td>\n",
       "      <td>1.102831</td>\n",
       "      <td>2.794207</td>\n",
       "      <td>0.092737</td>\n",
       "      <td>4.515085</td>\n",
       "      <td>1.694656</td>\n",
       "      <td>5.507953</td>\n",
       "      <td>1.288325</td>\n",
       "      <td>161.383230</td>\n",
       "    </tr>\n",
       "    <tr>\n",
       "      <th>min</th>\n",
       "      <td>1.000000</td>\n",
       "      <td>19.000000</td>\n",
       "      <td>1.000000</td>\n",
       "      <td>0.000000</td>\n",
       "      <td>0.000000</td>\n",
       "      <td>0.000000</td>\n",
       "      <td>0.000000</td>\n",
       "      <td>0.000000</td>\n",
       "      <td>0.000000</td>\n",
       "      <td>0.000000</td>\n",
       "      <td>...</td>\n",
       "      <td>0.000000</td>\n",
       "      <td>-3.300000</td>\n",
       "      <td>-0.500000</td>\n",
       "      <td>-2.100000</td>\n",
       "      <td>-1.065000</td>\n",
       "      <td>-33.000000</td>\n",
       "      <td>-22.100000</td>\n",
       "      <td>-54.700000</td>\n",
       "      <td>-1.800000</td>\n",
       "      <td>1.000000</td>\n",
       "    </tr>\n",
       "    <tr>\n",
       "      <th>25%</th>\n",
       "      <td>125.000000</td>\n",
       "      <td>23.000000</td>\n",
       "      <td>36.000000</td>\n",
       "      <td>1.000000</td>\n",
       "      <td>13.600000</td>\n",
       "      <td>1.600000</td>\n",
       "      <td>3.700000</td>\n",
       "      <td>0.402000</td>\n",
       "      <td>0.100000</td>\n",
       "      <td>0.300000</td>\n",
       "      <td>...</td>\n",
       "      <td>15.000000</td>\n",
       "      <td>0.000000</td>\n",
       "      <td>0.400000</td>\n",
       "      <td>0.400000</td>\n",
       "      <td>0.043000</td>\n",
       "      <td>-2.800000</td>\n",
       "      <td>-0.900000</td>\n",
       "      <td>-3.000000</td>\n",
       "      <td>-0.100000</td>\n",
       "      <td>120.000000</td>\n",
       "    </tr>\n",
       "    <tr>\n",
       "      <th>50%</th>\n",
       "      <td>249.000000</td>\n",
       "      <td>26.000000</td>\n",
       "      <td>59.000000</td>\n",
       "      <td>12.000000</td>\n",
       "      <td>20.400000</td>\n",
       "      <td>2.800000</td>\n",
       "      <td>6.200000</td>\n",
       "      <td>0.439000</td>\n",
       "      <td>0.600000</td>\n",
       "      <td>1.800000</td>\n",
       "      <td>...</td>\n",
       "      <td>18.100000</td>\n",
       "      <td>0.800000</td>\n",
       "      <td>1.000000</td>\n",
       "      <td>1.800000</td>\n",
       "      <td>0.085000</td>\n",
       "      <td>-1.000000</td>\n",
       "      <td>-0.100000</td>\n",
       "      <td>-1.200000</td>\n",
       "      <td>0.200000</td>\n",
       "      <td>244.000000</td>\n",
       "    </tr>\n",
       "    <tr>\n",
       "      <th>75%</th>\n",
       "      <td>373.750000</td>\n",
       "      <td>29.000000</td>\n",
       "      <td>73.000000</td>\n",
       "      <td>51.000000</td>\n",
       "      <td>28.200000</td>\n",
       "      <td>4.500000</td>\n",
       "      <td>9.900000</td>\n",
       "      <td>0.485000</td>\n",
       "      <td>1.200000</td>\n",
       "      <td>3.400000</td>\n",
       "      <td>...</td>\n",
       "      <td>22.100000</td>\n",
       "      <td>2.100000</td>\n",
       "      <td>1.800000</td>\n",
       "      <td>3.900000</td>\n",
       "      <td>0.123000</td>\n",
       "      <td>0.500000</td>\n",
       "      <td>0.700000</td>\n",
       "      <td>0.700000</td>\n",
       "      <td>1.000000</td>\n",
       "      <td>375.000000</td>\n",
       "    </tr>\n",
       "    <tr>\n",
       "      <th>max</th>\n",
       "      <td>540.000000</td>\n",
       "      <td>43.000000</td>\n",
       "      <td>83.000000</td>\n",
       "      <td>82.000000</td>\n",
       "      <td>39.400000</td>\n",
       "      <td>10.900000</td>\n",
       "      <td>24.500000</td>\n",
       "      <td>1.000000</td>\n",
       "      <td>5.100000</td>\n",
       "      <td>13.200000</td>\n",
       "      <td>...</td>\n",
       "      <td>45.000000</td>\n",
       "      <td>14.800000</td>\n",
       "      <td>6.600000</td>\n",
       "      <td>19.300000</td>\n",
       "      <td>2.712000</td>\n",
       "      <td>199.400000</td>\n",
       "      <td>42.700000</td>\n",
       "      <td>242.200000</td>\n",
       "      <td>9.900000</td>\n",
       "      <td>697.000000</td>\n",
       "    </tr>\n",
       "  </tbody>\n",
       "</table>\n",
       "<p>8 rows × 53 columns</p>\n",
       "</div>"
      ],
      "text/plain": [
       "                Rk          Age            G           GS           MP  \\\n",
       "count  3990.000000  3990.000000  3990.000000  3990.000000  3990.000000   \n",
       "mean    249.476190    26.376441    52.921303    25.548371    20.675414   \n",
       "std     144.030772     4.290486    23.274611    28.120172     9.041004   \n",
       "min       1.000000    19.000000     1.000000     0.000000     0.000000   \n",
       "25%     125.000000    23.000000    36.000000     1.000000    13.600000   \n",
       "50%     249.000000    26.000000    59.000000    12.000000    20.400000   \n",
       "75%     373.750000    29.000000    73.000000    51.000000    28.200000   \n",
       "max     540.000000    43.000000    83.000000    82.000000    39.400000   \n",
       "\n",
       "                FG          FGA          FG%           3P          3PA  ...  \\\n",
       "count  3990.000000  3990.000000  3985.000000  3990.000000  3990.000000  ...   \n",
       "mean      3.234987     7.182531     0.443645     0.750376     2.140125  ...   \n",
       "std       2.122870     4.481663     0.088854     0.754054     1.970726  ...   \n",
       "min       0.000000     0.000000     0.000000     0.000000     0.000000  ...   \n",
       "25%       1.600000     3.700000     0.402000     0.100000     0.300000  ...   \n",
       "50%       2.800000     6.200000     0.439000     0.600000     1.800000  ...   \n",
       "75%       4.500000     9.900000     0.485000     1.200000     3.400000  ...   \n",
       "max      10.900000    24.500000     1.000000     5.100000    13.200000  ...   \n",
       "\n",
       "              USG%          OWS          DWS           WS        WS/48  \\\n",
       "count  3989.000000  3990.000000  3990.000000  3990.000000  3989.000000   \n",
       "mean     18.800552     1.358647     1.248872     2.607945     0.080998   \n",
       "std       5.330403     1.962194     1.102831     2.794207     0.092737   \n",
       "min       0.000000    -3.300000    -0.500000    -2.100000    -1.065000   \n",
       "25%      15.000000     0.000000     0.400000     0.400000     0.043000   \n",
       "50%      18.100000     0.800000     1.000000     1.800000     0.085000   \n",
       "75%      22.100000     2.100000     1.800000     3.900000     0.123000   \n",
       "max      45.000000    14.800000     6.600000    19.300000     2.712000   \n",
       "\n",
       "              OBPM         DBPM          BPM         VORP           RK  \n",
       "count  3990.000000  3990.000000  3990.000000  3990.000000  3990.000000  \n",
       "mean     -1.103985    -0.107769    -1.212130     0.635940   256.091479  \n",
       "std       4.515085     1.694656     5.507953     1.288325   161.383230  \n",
       "min     -33.000000   -22.100000   -54.700000    -1.800000     1.000000  \n",
       "25%      -2.800000    -0.900000    -3.000000    -0.100000   120.000000  \n",
       "50%      -1.000000    -0.100000    -1.200000     0.200000   244.000000  \n",
       "75%       0.500000     0.700000     0.700000     1.000000   375.000000  \n",
       "max     199.400000    42.700000   242.200000     9.900000   697.000000  \n",
       "\n",
       "[8 rows x 53 columns]"
      ]
     },
     "execution_count": 14,
     "metadata": {},
     "output_type": "execute_result"
    }
   ],
   "source": [
    "data.describe()"
   ]
  },
  {
   "cell_type": "markdown",
   "metadata": {},
   "source": [
    "### Missing Values"
   ]
  },
  {
   "cell_type": "code",
   "execution_count": 15,
   "metadata": {
    "scrolled": false
   },
   "outputs": [
    {
     "data": {
      "image/png": "[encoded data removed]",
      "text/plain": [
       "<Figure size 864x432 with 1 Axes>"
      ]
     },
     "metadata": {},
     "output_type": "display_data"
    }
   ],
   "source": [
    "plt.figure(figsize=(12,6))\n",
    "plt.bar(data.columns,data.isna().sum().values)\n",
    "plt.xticks(rotation=90)\n",
    "plt.title(\"Missing Values by Column\")\n",
    "plt.show()"
   ]
  },
  {
   "cell_type": "markdown",
   "metadata": {},
   "source": [
    "The missing values occur when a player hasn't recorded any instance of that stat (i.e they never shot a 3 pointer or took a free throw). We will replace them with '0'."
   ]
  },
  {
   "cell_type": "code",
   "execution_count": 16,
   "metadata": {},
   "outputs": [],
   "source": [
    "data.fillna(0, inplace=True)"
   ]
  },
  {
   "cell_type": "markdown",
   "metadata": {},
   "source": [
    "Drop columns that were duplicated from merging the two stat tables"
   ]
  },
  {
   "cell_type": "code",
   "execution_count": 17,
   "metadata": {},
   "outputs": [],
   "source": [
    "all_cols = list(data.columns.values)\n",
    "repeated = [x for x in all_cols if x[-2:]=='_y']\n",
    "data.drop(columns=repeated, inplace=True)"
   ]
  },
  {
   "cell_type": "markdown",
   "metadata": {},
   "source": [
    "Drop uninformative columns"
   ]
  },
  {
   "cell_type": "code",
   "execution_count": 18,
   "metadata": {},
   "outputs": [
    {
     "data": {
      "text/plain": [
       "array(['Pos', 'Age', 'G', 'GS', 'MP', 'FG', 'FGA', 'FG%', '3P', '3PA',\n",
       "       '3P%', '2P', '2PA', '2P%', 'eFG%', 'FT', 'FTA', 'FT%', 'ORB',\n",
       "       'DRB', 'TRB', 'AST', 'STL', 'BLK', 'TOV', 'PF', 'PTS', 'Date',\n",
       "       'PER', 'TS%', '3PAr', 'FTr', 'ORB%', 'DRB%', 'TRB%', 'AST%',\n",
       "       'STL%', 'BLK%', 'TOV%', 'USG%', 'OWS', 'DWS', 'WS', 'WS/48',\n",
       "       'OBPM', 'DBPM', 'BPM', 'VORP', 'Salary'], dtype=object)"
      ]
     },
     "execution_count": 18,
     "metadata": {},
     "output_type": "execute_result"
    }
   ],
   "source": [
    "dropped = ['Team','RK','Rk','Tm','Player']\n",
    "data.drop(columns=dropped, inplace=True)\n",
    "data.columns.values"
   ]
  },
  {
   "cell_type": "markdown",
   "metadata": {},
   "source": [
    "Some player have multiple positions separated by a hyphen, so we will only keep the first value"
   ]
  },
  {
   "cell_type": "code",
   "execution_count": 19,
   "metadata": {},
   "outputs": [
    {
     "data": {
      "text/plain": [
       "SG       846\n",
       "PF       821\n",
       "C        804\n",
       "PG       758\n",
       "SF       706\n",
       "SG-PG      9\n",
       "PF-C       9\n",
       "SG-SF      7\n",
       "PG-SG      7\n",
       "PF-SF      7\n",
       "SF-PF      6\n",
       "SF-SG      5\n",
       "C-PF       3\n",
       "SF-C       1\n",
       "SG-PF      1\n",
       "Name: Pos, dtype: int64"
      ]
     },
     "execution_count": 19,
     "metadata": {},
     "output_type": "execute_result"
    }
   ],
   "source": [
    "data.Pos.value_counts()"
   ]
  },
  {
   "cell_type": "code",
   "execution_count": 20,
   "metadata": {},
   "outputs": [
    {
     "data": {
      "text/plain": [
       "SG    863\n",
       "PF    837\n",
       "C     807\n",
       "PG    765\n",
       "SF    718\n",
       "Name: Pos, dtype: int64"
      ]
     },
     "execution_count": 20,
     "metadata": {},
     "output_type": "execute_result"
    }
   ],
   "source": [
    "data['Pos'] = data['Pos'].apply(lambda x: x.split('-')[0])\n",
    "data['Pos'].value_counts()"
   ]
  },
  {
   "cell_type": "markdown",
   "metadata": {},
   "source": [
    "Create a column for total minutes played over the entire season, since this may be more informative than just minutes per game"
   ]
  },
  {
   "cell_type": "code",
   "execution_count": 21,
   "metadata": {},
   "outputs": [],
   "source": [
    "data = data.astype({'G': 'float','MP':'float'})\n",
    "data['Tot_Mins'] = data['G']*data['MP']"
   ]
  },
  {
   "cell_type": "markdown",
   "metadata": {},
   "source": [
    "We now need to standardize salaries into the same reference frame. In the NBA, there is a \"soft\" salary cap which dictates the maximum cumulative salary a team can spend on its players, with some exceptions. This number has increased significantly over the last decade as the league has increased revenue, as seen below:"
   ]
  },
  {
   "cell_type": "markdown",
   "metadata": {},
   "source": [
    "![Salary Cap by Year](SalCap.jpg)"
   ]
  },
  {
   "cell_type": "markdown",
   "metadata": {},
   "source": [
    "As a result, the average salary by year will be very different. We will first format the salary as float and then divide by 1,000,000 to make the values easier to interpret."
   ]
  },
  {
   "cell_type": "code",
   "execution_count": 22,
   "metadata": {},
   "outputs": [
    {
     "data": {
      "text/html": [
       "<div>\n",
       "<style scoped>\n",
       "    .dataframe tbody tr th:only-of-type {\n",
       "        vertical-align: middle;\n",
       "    }\n",
       "\n",
       "    .dataframe tbody tr th {\n",
       "        vertical-align: top;\n",
       "    }\n",
       "\n",
       "    .dataframe thead th {\n",
       "        text-align: right;\n",
       "    }\n",
       "</style>\n",
       "<table border=\"1\" class=\"dataframe\">\n",
       "  <thead>\n",
       "    <tr style=\"text-align: right;\">\n",
       "      <th></th>\n",
       "      <th>Salary</th>\n",
       "    </tr>\n",
       "    <tr>\n",
       "      <th>Date</th>\n",
       "      <th></th>\n",
       "    </tr>\n",
       "  </thead>\n",
       "  <tbody>\n",
       "    <tr>\n",
       "      <th>2012</th>\n",
       "      <td>4.035777</td>\n",
       "    </tr>\n",
       "    <tr>\n",
       "      <th>2013</th>\n",
       "      <td>4.148389</td>\n",
       "    </tr>\n",
       "    <tr>\n",
       "      <th>2014</th>\n",
       "      <td>4.310006</td>\n",
       "    </tr>\n",
       "    <tr>\n",
       "      <th>2015</th>\n",
       "      <td>4.080973</td>\n",
       "    </tr>\n",
       "    <tr>\n",
       "      <th>2016</th>\n",
       "      <td>4.690396</td>\n",
       "    </tr>\n",
       "    <tr>\n",
       "      <th>2017</th>\n",
       "      <td>5.767772</td>\n",
       "    </tr>\n",
       "    <tr>\n",
       "      <th>2018</th>\n",
       "      <td>7.325365</td>\n",
       "    </tr>\n",
       "    <tr>\n",
       "      <th>2019</th>\n",
       "      <td>7.030826</td>\n",
       "    </tr>\n",
       "    <tr>\n",
       "      <th>2020</th>\n",
       "      <td>7.711300</td>\n",
       "    </tr>\n",
       "  </tbody>\n",
       "</table>\n",
       "</div>"
      ],
      "text/plain": [
       "        Salary\n",
       "Date          \n",
       "2012  4.035777\n",
       "2013  4.148389\n",
       "2014  4.310006\n",
       "2015  4.080973\n",
       "2016  4.690396\n",
       "2017  5.767772\n",
       "2018  7.325365\n",
       "2019  7.030826\n",
       "2020  7.711300"
      ]
     },
     "execution_count": 22,
     "metadata": {},
     "output_type": "execute_result"
    }
   ],
   "source": [
    "data['Salary'] = data['Salary'].apply(lambda x:x.replace(',','').split('$')[1]) \n",
    "data = data.astype({'Salary': 'float'})\n",
    "data['Salary'] = data['Salary']/1000000\n",
    "pd.pivot_table(data, index='Date', values='Salary')"
   ]
  },
  {
   "cell_type": "markdown",
   "metadata": {},
   "source": [
    "The average salary clearly increases year-by-year. To account for this, I will standardize year-by-year salaries so they are all using a salary cap = $100,000,000 (or 100 in our version), only for the training data."
   ]
  },
  {
   "cell_type": "code",
   "execution_count": 23,
   "metadata": {},
   "outputs": [
    {
     "data": {
      "text/html": [
       "<div>\n",
       "<style scoped>\n",
       "    .dataframe tbody tr th:only-of-type {\n",
       "        vertical-align: middle;\n",
       "    }\n",
       "\n",
       "    .dataframe tbody tr th {\n",
       "        vertical-align: top;\n",
       "    }\n",
       "\n",
       "    .dataframe thead th {\n",
       "        text-align: right;\n",
       "    }\n",
       "</style>\n",
       "<table border=\"1\" class=\"dataframe\">\n",
       "  <thead>\n",
       "    <tr style=\"text-align: right;\">\n",
       "      <th></th>\n",
       "      <th>Salary</th>\n",
       "    </tr>\n",
       "    <tr>\n",
       "      <th>Date</th>\n",
       "      <th></th>\n",
       "    </tr>\n",
       "  </thead>\n",
       "  <tbody>\n",
       "    <tr>\n",
       "      <th>2012</th>\n",
       "      <td>6.938991</td>\n",
       "    </tr>\n",
       "    <tr>\n",
       "      <th>2013</th>\n",
       "      <td>7.146973</td>\n",
       "    </tr>\n",
       "    <tr>\n",
       "      <th>2014</th>\n",
       "      <td>7.345056</td>\n",
       "    </tr>\n",
       "    <tr>\n",
       "      <th>2015</th>\n",
       "      <td>6.471058</td>\n",
       "    </tr>\n",
       "    <tr>\n",
       "      <th>2016</th>\n",
       "      <td>6.700566</td>\n",
       "    </tr>\n",
       "    <tr>\n",
       "      <th>2017</th>\n",
       "      <td>6.126607</td>\n",
       "    </tr>\n",
       "    <tr>\n",
       "      <th>2018</th>\n",
       "      <td>7.392414</td>\n",
       "    </tr>\n",
       "    <tr>\n",
       "      <th>2019</th>\n",
       "      <td>6.901830</td>\n",
       "    </tr>\n",
       "    <tr>\n",
       "      <th>2020</th>\n",
       "      <td>7.065513</td>\n",
       "    </tr>\n",
       "  </tbody>\n",
       "</table>\n",
       "</div>"
      ],
      "text/plain": [
       "        Salary\n",
       "Date          \n",
       "2012  6.938991\n",
       "2013  7.146973\n",
       "2014  7.345056\n",
       "2015  6.471058\n",
       "2016  6.700566\n",
       "2017  6.126607\n",
       "2018  7.392414\n",
       "2019  6.901830\n",
       "2020  7.065513"
      ]
     },
     "execution_count": 23,
     "metadata": {},
     "output_type": "execute_result"
    }
   ],
   "source": [
    "data_copy = data\n",
    "caps = {\n",
    "2012: 100/58.044000,\t\n",
    "2013: 100/58.044000,\t\n",
    "2014: 100/58.679000,\t\n",
    "2015: 100/63.065000,\t\n",
    "2016: 100/70.000000,\t\n",
    "2017: 100/94.143000,\t\n",
    "2018: 100/99.093000,\t\n",
    "2019: 100/101.869000,\t\n",
    "2020: 100/109.140000\t\n",
    "        }\n",
    "data_copy['Factor'] = data_copy['Date'].map(caps)\n",
    "data_copy['Salary'] = data_copy['Salary'] * data_copy['Factor']\n",
    "data_copy.drop(columns='Factor',index=1,inplace=True)\n",
    "pd.pivot_table(data_copy, index='Date', values='Salary')  "
   ]
  },
  {
   "cell_type": "markdown",
   "metadata": {},
   "source": [
    "Salary is much more similar year-by-year now"
   ]
  },
  {
   "cell_type": "code",
   "execution_count": 24,
   "metadata": {},
   "outputs": [
    {
     "data": {
      "text/plain": [
       "Index(['Pos', 'Age', 'G', 'GS', 'MP', 'FG', 'FGA', 'FG%', '3P', '3PA', '3P%',\n",
       "       '2P', '2PA', '2P%', 'eFG%', 'FT', 'FTA', 'FT%', 'ORB', 'DRB', 'TRB',\n",
       "       'AST', 'STL', 'BLK', 'TOV', 'PF', 'PTS', 'Date', 'PER', 'TS%', '3PAr',\n",
       "       'FTr', 'ORB%', 'DRB%', 'TRB%', 'AST%', 'STL%', 'BLK%', 'TOV%', 'USG%',\n",
       "       'OWS', 'DWS', 'WS', 'WS/48', 'OBPM', 'DBPM', 'BPM', 'VORP', 'Salary',\n",
       "       'Tot_Mins'],\n",
       "      dtype='object')"
      ]
     },
     "execution_count": 24,
     "metadata": {},
     "output_type": "execute_result"
    }
   ],
   "source": [
    "data.columns"
   ]
  },
  {
   "cell_type": "code",
   "execution_count": 25,
   "metadata": {
    "scrolled": false
   },
   "outputs": [
    {
     "data": {
      "text/plain": [
       "Pos          object\n",
       "Age           int64\n",
       "G           float64\n",
       "GS            int64\n",
       "MP          float64\n",
       "FG          float64\n",
       "FGA         float64\n",
       "FG%         float64\n",
       "3P          float64\n",
       "3PA         float64\n",
       "3P%         float64\n",
       "2P          float64\n",
       "2PA         float64\n",
       "2P%         float64\n",
       "eFG%        float64\n",
       "FT          float64\n",
       "FTA         float64\n",
       "FT%         float64\n",
       "ORB         float64\n",
       "DRB         float64\n",
       "TRB         float64\n",
       "AST         float64\n",
       "STL         float64\n",
       "BLK         float64\n",
       "TOV         float64\n",
       "PF          float64\n",
       "PTS         float64\n",
       "Date          int64\n",
       "PER         float64\n",
       "TS%         float64\n",
       "3PAr        float64\n",
       "FTr         float64\n",
       "ORB%        float64\n",
       "DRB%        float64\n",
       "TRB%        float64\n",
       "AST%        float64\n",
       "STL%        float64\n",
       "BLK%        float64\n",
       "TOV%        float64\n",
       "USG%        float64\n",
       "OWS         float64\n",
       "DWS         float64\n",
       "WS          float64\n",
       "WS/48       float64\n",
       "OBPM        float64\n",
       "DBPM        float64\n",
       "BPM         float64\n",
       "VORP        float64\n",
       "Salary      float64\n",
       "Tot_Mins    float64\n",
       "dtype: object"
      ]
     },
     "execution_count": 25,
     "metadata": {},
     "output_type": "execute_result"
    }
   ],
   "source": [
    "data.dtypes"
   ]
  },
  {
   "cell_type": "markdown",
   "metadata": {},
   "source": [
    "# EDA"
   ]
  },
  {
   "cell_type": "markdown",
   "metadata": {},
   "source": [
    "### Evaluate our target variable, Salary:"
   ]
  },
  {
   "cell_type": "code",
   "execution_count": 27,
   "metadata": {},
   "outputs": [
    {
     "data": {
      "image/png": "[encoded data removed]",
      "text/plain": [
       "<Figure size 360x360 with 1 Axes>"
      ]
     },
     "metadata": {},
     "output_type": "display_data"
    }
   ],
   "source": [
    "sns.set_style(\"whitegrid\")\n",
    "sns.displot(data,x='Salary')\n",
    "plt.title('Salary Distribution')\n",
    "plt.show()"
   ]
  },
  {
   "cell_type": "markdown",
   "metadata": {},
   "source": [
    "This is not a normally distributed outcome variable, but since our objective is prediction and we will be using some non-parametric models, this should not be an issue"
   ]
  },
  {
   "cell_type": "code",
   "execution_count": 36,
   "metadata": {
    "scrolled": false
   },
   "outputs": [
    {
     "data": {
      "image/png": "[encoded data removed]",
      "text/plain": [
       "<Figure size 576x432 with 1 Axes>"
      ]
     },
     "metadata": {},
     "output_type": "display_data"
    }
   ],
   "source": [
    "plt.figure(figsize=(8,6))\n",
    "sns.boxplot(y=data['Salary'])\n",
    "plt.title('Boxplot of Salary')\n",
    "plt.show()"
   ]
  },
  {
   "cell_type": "markdown",
   "metadata": {},
   "source": [
    "There are many contracts for elite players which will take up >20% of a team's salary cap, appearing as outliers. However, we should not remove them since they are still key pieces of information for the model."
   ]
  },
  {
   "cell_type": "code",
   "execution_count": 37,
   "metadata": {},
   "outputs": [
    {
     "data": {
      "text/plain": [
       "count    3989.000000\n",
       "mean        6.883464\n",
       "std         7.718640\n",
       "min         0.004650\n",
       "25%         1.471968\n",
       "50%         3.685167\n",
       "75%         9.400197\n",
       "max        52.466758\n",
       "Name: Salary, dtype: float64"
      ]
     },
     "execution_count": 37,
     "metadata": {},
     "output_type": "execute_result"
    }
   ],
   "source": [
    "data['Salary'].describe()"
   ]
  },
  {
   "cell_type": "markdown",
   "metadata": {},
   "source": [
    "### Evaluate numerical columns"
   ]
  },
  {
   "cell_type": "code",
   "execution_count": 38,
   "metadata": {},
   "outputs": [],
   "source": [
    "data_num = data.drop(columns=['Pos','Salary'])"
   ]
  },
  {
   "cell_type": "code",
   "execution_count": 39,
   "metadata": {},
   "outputs": [
    {
     "data": {
      "text/plain": [
       "(3989, 48)"
      ]
     },
     "execution_count": 39,
     "metadata": {},
     "output_type": "execute_result"
    }
   ],
   "source": [
    "data_num.shape"
   ]
  },
  {
   "cell_type": "code",
   "execution_count": 44,
   "metadata": {},
   "outputs": [
    {
     "data": {
      "image/png": "[encoded data removed]",
      "text/plain": [
       "<Figure size 1152x1440 with 49 Axes>"
      ]
     },
     "metadata": {},
     "output_type": "display_data"
    }
   ],
   "source": [
    "data_num.hist(figsize=(16, 20), bins=50, xlabelsize=8, ylabelsize=8);"
   ]
  },
  {
   "cell_type": "markdown",
   "metadata": {},
   "source": [
    "- Many of the variables appear to be normally distributed with skews\n",
    "- Lots of 0s for specialist stats such as 3 point shooting and Blocks"
   ]
  },
  {
   "cell_type": "markdown",
   "metadata": {},
   "source": [
    "### Evaluate the one categorical variable: Position"
   ]
  },
  {
   "cell_type": "code",
   "execution_count": 61,
   "metadata": {
    "scrolled": true
   },
   "outputs": [
    {
     "data": {
      "image/png": "[encoded data removed]",
      "text/plain": [
       "<Figure size 432x288 with 1 Axes>"
      ]
     },
     "metadata": {},
     "output_type": "display_data"
    }
   ],
   "source": [
    "sns.countplot(data=data,x='Pos')\n",
    "plt.title('Count of positions')\n",
    "plt.show()"
   ]
  },
  {
   "cell_type": "markdown",
   "metadata": {},
   "source": [
    "Positions are mostly evenly spread, with small forward being the lost common"
   ]
  },
  {
   "cell_type": "markdown",
   "metadata": {},
   "source": [
    "## Correlations:"
   ]
  },
  {
   "cell_type": "markdown",
   "metadata": {},
   "source": [
    "Choosing some factors I would expect to be important:"
   ]
  },
  {
   "cell_type": "code",
   "execution_count": 62,
   "metadata": {},
   "outputs": [
    {
     "data": {
      "text/html": [
       "<div>\n",
       "<style scoped>\n",
       "    .dataframe tbody tr th:only-of-type {\n",
       "        vertical-align: middle;\n",
       "    }\n",
       "\n",
       "    .dataframe tbody tr th {\n",
       "        vertical-align: top;\n",
       "    }\n",
       "\n",
       "    .dataframe thead th {\n",
       "        text-align: right;\n",
       "    }\n",
       "</style>\n",
       "<table border=\"1\" class=\"dataframe\">\n",
       "  <thead>\n",
       "    <tr style=\"text-align: right;\">\n",
       "      <th></th>\n",
       "      <th>VORP</th>\n",
       "      <th>BPM</th>\n",
       "      <th>WS</th>\n",
       "      <th>Tot_Mins</th>\n",
       "      <th>USG%</th>\n",
       "      <th>PER</th>\n",
       "      <th>Age</th>\n",
       "      <th>FG</th>\n",
       "      <th>TS%</th>\n",
       "      <th>GS</th>\n",
       "      <th>Salary</th>\n",
       "    </tr>\n",
       "  </thead>\n",
       "  <tbody>\n",
       "    <tr>\n",
       "      <th>VORP</th>\n",
       "      <td>1.000000</td>\n",
       "      <td>0.466505</td>\n",
       "      <td>0.914173</td>\n",
       "      <td>0.621232</td>\n",
       "      <td>0.453516</td>\n",
       "      <td>0.614673</td>\n",
       "      <td>0.084285</td>\n",
       "      <td>0.719201</td>\n",
       "      <td>0.336825</td>\n",
       "      <td>0.605460</td>\n",
       "      <td>0.574062</td>\n",
       "    </tr>\n",
       "    <tr>\n",
       "      <th>BPM</th>\n",
       "      <td>0.466505</td>\n",
       "      <td>1.000000</td>\n",
       "      <td>0.457167</td>\n",
       "      <td>0.347927</td>\n",
       "      <td>0.243412</td>\n",
       "      <td>0.820115</td>\n",
       "      <td>0.057437</td>\n",
       "      <td>0.402663</td>\n",
       "      <td>0.587620</td>\n",
       "      <td>0.301417</td>\n",
       "      <td>0.284365</td>\n",
       "    </tr>\n",
       "    <tr>\n",
       "      <th>WS</th>\n",
       "      <td>0.914173</td>\n",
       "      <td>0.457167</td>\n",
       "      <td>1.000000</td>\n",
       "      <td>0.787049</td>\n",
       "      <td>0.355184</td>\n",
       "      <td>0.631724</td>\n",
       "      <td>0.075114</td>\n",
       "      <td>0.750098</td>\n",
       "      <td>0.431472</td>\n",
       "      <td>0.717762</td>\n",
       "      <td>0.574918</td>\n",
       "    </tr>\n",
       "    <tr>\n",
       "      <th>Tot_Mins</th>\n",
       "      <td>0.621232</td>\n",
       "      <td>0.347927</td>\n",
       "      <td>0.787049</td>\n",
       "      <td>1.000000</td>\n",
       "      <td>0.327865</td>\n",
       "      <td>0.451711</td>\n",
       "      <td>0.037582</td>\n",
       "      <td>0.786079</td>\n",
       "      <td>0.331183</td>\n",
       "      <td>0.834700</td>\n",
       "      <td>0.516933</td>\n",
       "    </tr>\n",
       "    <tr>\n",
       "      <th>USG%</th>\n",
       "      <td>0.453516</td>\n",
       "      <td>0.243412</td>\n",
       "      <td>0.355184</td>\n",
       "      <td>0.327865</td>\n",
       "      <td>1.000000</td>\n",
       "      <td>0.499589</td>\n",
       "      <td>-0.090551</td>\n",
       "      <td>0.681537</td>\n",
       "      <td>0.115591</td>\n",
       "      <td>0.306558</td>\n",
       "      <td>0.401660</td>\n",
       "    </tr>\n",
       "    <tr>\n",
       "      <th>PER</th>\n",
       "      <td>0.614673</td>\n",
       "      <td>0.820115</td>\n",
       "      <td>0.631724</td>\n",
       "      <td>0.451711</td>\n",
       "      <td>0.499589</td>\n",
       "      <td>1.000000</td>\n",
       "      <td>0.002769</td>\n",
       "      <td>0.635062</td>\n",
       "      <td>0.697666</td>\n",
       "      <td>0.413860</td>\n",
       "      <td>0.415595</td>\n",
       "    </tr>\n",
       "    <tr>\n",
       "      <th>Age</th>\n",
       "      <td>0.084285</td>\n",
       "      <td>0.057437</td>\n",
       "      <td>0.075114</td>\n",
       "      <td>0.037582</td>\n",
       "      <td>-0.090551</td>\n",
       "      <td>0.002769</td>\n",
       "      <td>1.000000</td>\n",
       "      <td>0.006646</td>\n",
       "      <td>0.055152</td>\n",
       "      <td>0.020951</td>\n",
       "      <td>0.277529</td>\n",
       "    </tr>\n",
       "    <tr>\n",
       "      <th>FG</th>\n",
       "      <td>0.719201</td>\n",
       "      <td>0.402663</td>\n",
       "      <td>0.750098</td>\n",
       "      <td>0.786079</td>\n",
       "      <td>0.681537</td>\n",
       "      <td>0.635062</td>\n",
       "      <td>0.006646</td>\n",
       "      <td>1.000000</td>\n",
       "      <td>0.351931</td>\n",
       "      <td>0.735578</td>\n",
       "      <td>0.643698</td>\n",
       "    </tr>\n",
       "    <tr>\n",
       "      <th>TS%</th>\n",
       "      <td>0.336825</td>\n",
       "      <td>0.587620</td>\n",
       "      <td>0.431472</td>\n",
       "      <td>0.331183</td>\n",
       "      <td>0.115591</td>\n",
       "      <td>0.697666</td>\n",
       "      <td>0.055152</td>\n",
       "      <td>0.351931</td>\n",
       "      <td>1.000000</td>\n",
       "      <td>0.255115</td>\n",
       "      <td>0.191711</td>\n",
       "    </tr>\n",
       "    <tr>\n",
       "      <th>GS</th>\n",
       "      <td>0.605460</td>\n",
       "      <td>0.301417</td>\n",
       "      <td>0.717762</td>\n",
       "      <td>0.834700</td>\n",
       "      <td>0.306558</td>\n",
       "      <td>0.413860</td>\n",
       "      <td>0.020951</td>\n",
       "      <td>0.735578</td>\n",
       "      <td>0.255115</td>\n",
       "      <td>1.000000</td>\n",
       "      <td>0.548721</td>\n",
       "    </tr>\n",
       "    <tr>\n",
       "      <th>Salary</th>\n",
       "      <td>0.574062</td>\n",
       "      <td>0.284365</td>\n",
       "      <td>0.574918</td>\n",
       "      <td>0.516933</td>\n",
       "      <td>0.401660</td>\n",
       "      <td>0.415595</td>\n",
       "      <td>0.277529</td>\n",
       "      <td>0.643698</td>\n",
       "      <td>0.191711</td>\n",
       "      <td>0.548721</td>\n",
       "      <td>1.000000</td>\n",
       "    </tr>\n",
       "  </tbody>\n",
       "</table>\n",
       "</div>"
      ],
      "text/plain": [
       "              VORP       BPM        WS  Tot_Mins      USG%       PER  \\\n",
       "VORP      1.000000  0.466505  0.914173  0.621232  0.453516  0.614673   \n",
       "BPM       0.466505  1.000000  0.457167  0.347927  0.243412  0.820115   \n",
       "WS        0.914173  0.457167  1.000000  0.787049  0.355184  0.631724   \n",
       "Tot_Mins  0.621232  0.347927  0.787049  1.000000  0.327865  0.451711   \n",
       "USG%      0.453516  0.243412  0.355184  0.327865  1.000000  0.499589   \n",
       "PER       0.614673  0.820115  0.631724  0.451711  0.499589  1.000000   \n",
       "Age       0.084285  0.057437  0.075114  0.037582 -0.090551  0.002769   \n",
       "FG        0.719201  0.402663  0.750098  0.786079  0.681537  0.635062   \n",
       "TS%       0.336825  0.587620  0.431472  0.331183  0.115591  0.697666   \n",
       "GS        0.605460  0.301417  0.717762  0.834700  0.306558  0.413860   \n",
       "Salary    0.574062  0.284365  0.574918  0.516933  0.401660  0.415595   \n",
       "\n",
       "               Age        FG       TS%        GS    Salary  \n",
       "VORP      0.084285  0.719201  0.336825  0.605460  0.574062  \n",
       "BPM       0.057437  0.402663  0.587620  0.301417  0.284365  \n",
       "WS        0.075114  0.750098  0.431472  0.717762  0.574918  \n",
       "Tot_Mins  0.037582  0.786079  0.331183  0.834700  0.516933  \n",
       "USG%     -0.090551  0.681537  0.115591  0.306558  0.401660  \n",
       "PER       0.002769  0.635062  0.697666  0.413860  0.415595  \n",
       "Age       1.000000  0.006646  0.055152  0.020951  0.277529  \n",
       "FG        0.006646  1.000000  0.351931  0.735578  0.643698  \n",
       "TS%       0.055152  0.351931  1.000000  0.255115  0.191711  \n",
       "GS        0.020951  0.735578  0.255115  1.000000  0.548721  \n",
       "Salary    0.277529  0.643698  0.191711  0.548721  1.000000  "
      ]
     },
     "execution_count": 62,
     "metadata": {},
     "output_type": "execute_result"
    }
   ],
   "source": [
    "corr = data[['VORP','BPM','WS','Tot_Mins','USG%','PER','Age','FG','TS%','GS','Salary']].corr()\n",
    "corr"
   ]
  },
  {
   "cell_type": "code",
   "execution_count": 63,
   "metadata": {},
   "outputs": [
    {
     "data": {
      "text/plain": [
       "<AxesSubplot:>"
      ]
     },
     "execution_count": 63,
     "metadata": {},
     "output_type": "execute_result"
    },
    {
     "data": {
      "image/png": "[encoded data removed]",
      "text/plain": [
       "<Figure size 432x288 with 2 Axes>"
      ]
     },
     "metadata": {},
     "output_type": "display_data"
    }
   ],
   "source": [
    "cmap = sns.diverging_palette(220, 10, as_cmap=True)\n",
    "sns.heatmap(corr, cmap=cmap, vmax=1, center=0,\n",
    "            square=True, linewidths=.5, cbar_kws={\"shrink\": .5})"
   ]
  },
  {
   "cell_type": "markdown",
   "metadata": {},
   "source": [
    "- Win shares, VORP, FG, and GS are the variables most correlated with Salary\n",
    "    - Win shares are a cumulative stat (the more you play over a season, the higher the stat gets) so this rewards high-minute players \n",
    "    - GS (Games Started) follows the same logic, as players who are skilled enough to start for a team are subsequently well paid\n",
    "    - Win shares and VORP have very high correlation (0.914) because they are built with similar methodology\n",
    "- Age has a mild positive correlation as older players qualify for more expensive contracts under the Collective Bargaining Agreement"
   ]
  },
  {
   "cell_type": "markdown",
   "metadata": {},
   "source": [
    "Looking at just defensive correlations:"
   ]
  },
  {
   "cell_type": "code",
   "execution_count": 64,
   "metadata": {},
   "outputs": [],
   "source": [
    "defense = data[['DRB','DRB%','STL','STL%','BLK','BLK%','DBPM','DWS','Salary',]].corr()"
   ]
  },
  {
   "cell_type": "code",
   "execution_count": 65,
   "metadata": {
    "scrolled": true
   },
   "outputs": [
    {
     "data": {
      "text/html": [
       "<div>\n",
       "<style scoped>\n",
       "    .dataframe tbody tr th:only-of-type {\n",
       "        vertical-align: middle;\n",
       "    }\n",
       "\n",
       "    .dataframe tbody tr th {\n",
       "        vertical-align: top;\n",
       "    }\n",
       "\n",
       "    .dataframe thead th {\n",
       "        text-align: right;\n",
       "    }\n",
       "</style>\n",
       "<table border=\"1\" class=\"dataframe\">\n",
       "  <thead>\n",
       "    <tr style=\"text-align: right;\">\n",
       "      <th></th>\n",
       "      <th>DRB</th>\n",
       "      <th>DRB%</th>\n",
       "      <th>STL</th>\n",
       "      <th>STL%</th>\n",
       "      <th>BLK</th>\n",
       "      <th>BLK%</th>\n",
       "      <th>DBPM</th>\n",
       "      <th>DWS</th>\n",
       "      <th>Salary</th>\n",
       "    </tr>\n",
       "  </thead>\n",
       "  <tbody>\n",
       "    <tr>\n",
       "      <th>DRB</th>\n",
       "      <td>1.000000</td>\n",
       "      <td>0.640842</td>\n",
       "      <td>0.463482</td>\n",
       "      <td>-0.017165</td>\n",
       "      <td>0.654143</td>\n",
       "      <td>0.289670</td>\n",
       "      <td>0.219031</td>\n",
       "      <td>0.748767</td>\n",
       "      <td>0.560227</td>\n",
       "    </tr>\n",
       "    <tr>\n",
       "      <th>DRB%</th>\n",
       "      <td>0.640842</td>\n",
       "      <td>1.000000</td>\n",
       "      <td>-0.058494</td>\n",
       "      <td>-0.109027</td>\n",
       "      <td>0.507205</td>\n",
       "      <td>0.514063</td>\n",
       "      <td>0.216011</td>\n",
       "      <td>0.315526</td>\n",
       "      <td>0.170645</td>\n",
       "    </tr>\n",
       "    <tr>\n",
       "      <th>STL</th>\n",
       "      <td>0.463482</td>\n",
       "      <td>-0.058494</td>\n",
       "      <td>1.000000</td>\n",
       "      <td>0.583090</td>\n",
       "      <td>0.188408</td>\n",
       "      <td>-0.112973</td>\n",
       "      <td>0.294050</td>\n",
       "      <td>0.608950</td>\n",
       "      <td>0.429198</td>\n",
       "    </tr>\n",
       "    <tr>\n",
       "      <th>STL%</th>\n",
       "      <td>-0.017165</td>\n",
       "      <td>-0.109027</td>\n",
       "      <td>0.583090</td>\n",
       "      <td>1.000000</td>\n",
       "      <td>-0.056533</td>\n",
       "      <td>-0.086716</td>\n",
       "      <td>0.416978</td>\n",
       "      <td>0.150184</td>\n",
       "      <td>0.021480</td>\n",
       "    </tr>\n",
       "    <tr>\n",
       "      <th>BLK</th>\n",
       "      <td>0.654143</td>\n",
       "      <td>0.507205</td>\n",
       "      <td>0.188408</td>\n",
       "      <td>-0.056533</td>\n",
       "      <td>1.000000</td>\n",
       "      <td>0.770473</td>\n",
       "      <td>0.314539</td>\n",
       "      <td>0.556529</td>\n",
       "      <td>0.307872</td>\n",
       "    </tr>\n",
       "    <tr>\n",
       "      <th>BLK%</th>\n",
       "      <td>0.289670</td>\n",
       "      <td>0.514063</td>\n",
       "      <td>-0.112973</td>\n",
       "      <td>-0.086716</td>\n",
       "      <td>0.770473</td>\n",
       "      <td>1.000000</td>\n",
       "      <td>0.346163</td>\n",
       "      <td>0.207524</td>\n",
       "      <td>0.032973</td>\n",
       "    </tr>\n",
       "    <tr>\n",
       "      <th>DBPM</th>\n",
       "      <td>0.219031</td>\n",
       "      <td>0.216011</td>\n",
       "      <td>0.294050</td>\n",
       "      <td>0.416978</td>\n",
       "      <td>0.314539</td>\n",
       "      <td>0.346163</td>\n",
       "      <td>1.000000</td>\n",
       "      <td>0.364104</td>\n",
       "      <td>0.087871</td>\n",
       "    </tr>\n",
       "    <tr>\n",
       "      <th>DWS</th>\n",
       "      <td>0.748767</td>\n",
       "      <td>0.315526</td>\n",
       "      <td>0.608950</td>\n",
       "      <td>0.150184</td>\n",
       "      <td>0.556529</td>\n",
       "      <td>0.207524</td>\n",
       "      <td>0.364104</td>\n",
       "      <td>1.000000</td>\n",
       "      <td>0.511314</td>\n",
       "    </tr>\n",
       "    <tr>\n",
       "      <th>Salary</th>\n",
       "      <td>0.560227</td>\n",
       "      <td>0.170645</td>\n",
       "      <td>0.429198</td>\n",
       "      <td>0.021480</td>\n",
       "      <td>0.307872</td>\n",
       "      <td>0.032973</td>\n",
       "      <td>0.087871</td>\n",
       "      <td>0.511314</td>\n",
       "      <td>1.000000</td>\n",
       "    </tr>\n",
       "  </tbody>\n",
       "</table>\n",
       "</div>"
      ],
      "text/plain": [
       "             DRB      DRB%       STL      STL%       BLK      BLK%      DBPM  \\\n",
       "DRB     1.000000  0.640842  0.463482 -0.017165  0.654143  0.289670  0.219031   \n",
       "DRB%    0.640842  1.000000 -0.058494 -0.109027  0.507205  0.514063  0.216011   \n",
       "STL     0.463482 -0.058494  1.000000  0.583090  0.188408 -0.112973  0.294050   \n",
       "STL%   -0.017165 -0.109027  0.583090  1.000000 -0.056533 -0.086716  0.416978   \n",
       "BLK     0.654143  0.507205  0.188408 -0.056533  1.000000  0.770473  0.314539   \n",
       "BLK%    0.289670  0.514063 -0.112973 -0.086716  0.770473  1.000000  0.346163   \n",
       "DBPM    0.219031  0.216011  0.294050  0.416978  0.314539  0.346163  1.000000   \n",
       "DWS     0.748767  0.315526  0.608950  0.150184  0.556529  0.207524  0.364104   \n",
       "Salary  0.560227  0.170645  0.429198  0.021480  0.307872  0.032973  0.087871   \n",
       "\n",
       "             DWS    Salary  \n",
       "DRB     0.748767  0.560227  \n",
       "DRB%    0.315526  0.170645  \n",
       "STL     0.608950  0.429198  \n",
       "STL%    0.150184  0.021480  \n",
       "BLK     0.556529  0.307872  \n",
       "BLK%    0.207524  0.032973  \n",
       "DBPM    0.364104  0.087871  \n",
       "DWS     1.000000  0.511314  \n",
       "Salary  0.511314  1.000000  "
      ]
     },
     "execution_count": 65,
     "metadata": {},
     "output_type": "execute_result"
    }
   ],
   "source": [
    "defense"
   ]
  },
  {
   "cell_type": "code",
   "execution_count": 66,
   "metadata": {},
   "outputs": [
    {
     "data": {
      "text/plain": [
       "<AxesSubplot:>"
      ]
     },
     "execution_count": 66,
     "metadata": {},
     "output_type": "execute_result"
    },
    {
     "data": {
      "image/png": "[encoded data removed]",
      "text/plain": [
       "<Figure size 432x288 with 2 Axes>"
      ]
     },
     "metadata": {},
     "output_type": "display_data"
    }
   ],
   "source": [
    "sns.heatmap(defense, cmap=cmap, vmax=1, center=0,\n",
    "            square=True, linewidths=.5, cbar_kws={\"shrink\": .5})"
   ]
  },
  {
   "cell_type": "markdown",
   "metadata": {},
   "source": [
    "- The raw counting stats (DRB, STL, BLK) are much more correlated than their associated rates (DRB%, STL%, BLK%), again because players who play more are rewarded"
   ]
  },
  {
   "cell_type": "markdown",
   "metadata": {},
   "source": [
    "Looking at offensive statistics:"
   ]
  },
  {
   "cell_type": "code",
   "execution_count": 67,
   "metadata": {},
   "outputs": [],
   "source": [
    "offense = data[['3P','3P%','3PA','2P','2PA','2P%','OBPM','OWS','TOV%','USG%','FTr','ORB%','Salary']].corr()"
   ]
  },
  {
   "cell_type": "code",
   "execution_count": 68,
   "metadata": {},
   "outputs": [
    {
     "data": {
      "text/html": [
       "<div>\n",
       "<style scoped>\n",
       "    .dataframe tbody tr th:only-of-type {\n",
       "        vertical-align: middle;\n",
       "    }\n",
       "\n",
       "    .dataframe tbody tr th {\n",
       "        vertical-align: top;\n",
       "    }\n",
       "\n",
       "    .dataframe thead th {\n",
       "        text-align: right;\n",
       "    }\n",
       "</style>\n",
       "<table border=\"1\" class=\"dataframe\">\n",
       "  <thead>\n",
       "    <tr style=\"text-align: right;\">\n",
       "      <th></th>\n",
       "      <th>3P</th>\n",
       "      <th>3P%</th>\n",
       "      <th>3PA</th>\n",
       "      <th>2P</th>\n",
       "      <th>2PA</th>\n",
       "      <th>2P%</th>\n",
       "      <th>OBPM</th>\n",
       "      <th>OWS</th>\n",
       "      <th>TOV%</th>\n",
       "      <th>USG%</th>\n",
       "      <th>FTr</th>\n",
       "      <th>ORB%</th>\n",
       "      <th>Salary</th>\n",
       "    </tr>\n",
       "  </thead>\n",
       "  <tbody>\n",
       "    <tr>\n",
       "      <th>3P</th>\n",
       "      <td>1.000000</td>\n",
       "      <td>0.582086</td>\n",
       "      <td>0.983281</td>\n",
       "      <td>0.205631</td>\n",
       "      <td>0.240480</td>\n",
       "      <td>-0.030498</td>\n",
       "      <td>0.336045</td>\n",
       "      <td>0.383961</td>\n",
       "      <td>-0.232308</td>\n",
       "      <td>0.360208</td>\n",
       "      <td>-0.237910</td>\n",
       "      <td>-0.493753</td>\n",
       "      <td>0.297830</td>\n",
       "    </tr>\n",
       "    <tr>\n",
       "      <th>3P%</th>\n",
       "      <td>0.582086</td>\n",
       "      <td>1.000000</td>\n",
       "      <td>0.557037</td>\n",
       "      <td>0.050374</td>\n",
       "      <td>0.080480</td>\n",
       "      <td>-0.085068</td>\n",
       "      <td>0.279667</td>\n",
       "      <td>0.145574</td>\n",
       "      <td>-0.186756</td>\n",
       "      <td>0.175660</td>\n",
       "      <td>-0.288243</td>\n",
       "      <td>-0.495055</td>\n",
       "      <td>0.095629</td>\n",
       "    </tr>\n",
       "    <tr>\n",
       "      <th>3PA</th>\n",
       "      <td>0.983281</td>\n",
       "      <td>0.557037</td>\n",
       "      <td>1.000000</td>\n",
       "      <td>0.214774</td>\n",
       "      <td>0.253699</td>\n",
       "      <td>-0.036385</td>\n",
       "      <td>0.301212</td>\n",
       "      <td>0.344567</td>\n",
       "      <td>-0.231197</td>\n",
       "      <td>0.385388</td>\n",
       "      <td>-0.242859</td>\n",
       "      <td>-0.515489</td>\n",
       "      <td>0.305277</td>\n",
       "    </tr>\n",
       "    <tr>\n",
       "      <th>2P</th>\n",
       "      <td>0.205631</td>\n",
       "      <td>0.050374</td>\n",
       "      <td>0.214774</td>\n",
       "      <td>1.000000</td>\n",
       "      <td>0.982391</td>\n",
       "      <td>0.287724</td>\n",
       "      <td>0.418423</td>\n",
       "      <td>0.660821</td>\n",
       "      <td>-0.135175</td>\n",
       "      <td>0.640750</td>\n",
       "      <td>0.162703</td>\n",
       "      <td>0.123578</td>\n",
       "      <td>0.621761</td>\n",
       "    </tr>\n",
       "    <tr>\n",
       "      <th>2PA</th>\n",
       "      <td>0.240480</td>\n",
       "      <td>0.080480</td>\n",
       "      <td>0.253699</td>\n",
       "      <td>0.982391</td>\n",
       "      <td>1.000000</td>\n",
       "      <td>0.169279</td>\n",
       "      <td>0.389741</td>\n",
       "      <td>0.601268</td>\n",
       "      <td>-0.135776</td>\n",
       "      <td>0.679605</td>\n",
       "      <td>0.129260</td>\n",
       "      <td>0.062955</td>\n",
       "      <td>0.621313</td>\n",
       "    </tr>\n",
       "    <tr>\n",
       "      <th>2P%</th>\n",
       "      <td>-0.030498</td>\n",
       "      <td>-0.085068</td>\n",
       "      <td>-0.036385</td>\n",
       "      <td>0.287724</td>\n",
       "      <td>0.169279</td>\n",
       "      <td>1.000000</td>\n",
       "      <td>0.261784</td>\n",
       "      <td>0.305668</td>\n",
       "      <td>-0.035222</td>\n",
       "      <td>0.010554</td>\n",
       "      <td>0.216285</td>\n",
       "      <td>0.270675</td>\n",
       "      <td>0.126495</td>\n",
       "    </tr>\n",
       "    <tr>\n",
       "      <th>OBPM</th>\n",
       "      <td>0.336045</td>\n",
       "      <td>0.279667</td>\n",
       "      <td>0.301212</td>\n",
       "      <td>0.418423</td>\n",
       "      <td>0.389741</td>\n",
       "      <td>0.261784</td>\n",
       "      <td>1.000000</td>\n",
       "      <td>0.477037</td>\n",
       "      <td>-0.253617</td>\n",
       "      <td>0.367241</td>\n",
       "      <td>0.075781</td>\n",
       "      <td>-0.002948</td>\n",
       "      <td>0.314001</td>\n",
       "    </tr>\n",
       "    <tr>\n",
       "      <th>OWS</th>\n",
       "      <td>0.383961</td>\n",
       "      <td>0.145574</td>\n",
       "      <td>0.344567</td>\n",
       "      <td>0.660821</td>\n",
       "      <td>0.601268</td>\n",
       "      <td>0.305668</td>\n",
       "      <td>0.477037</td>\n",
       "      <td>1.000000</td>\n",
       "      <td>-0.170119</td>\n",
       "      <td>0.361442</td>\n",
       "      <td>0.205201</td>\n",
       "      <td>0.075457</td>\n",
       "      <td>0.531813</td>\n",
       "    </tr>\n",
       "    <tr>\n",
       "      <th>TOV%</th>\n",
       "      <td>-0.232308</td>\n",
       "      <td>-0.186756</td>\n",
       "      <td>-0.231197</td>\n",
       "      <td>-0.135175</td>\n",
       "      <td>-0.135776</td>\n",
       "      <td>-0.035222</td>\n",
       "      <td>-0.253617</td>\n",
       "      <td>-0.170119</td>\n",
       "      <td>1.000000</td>\n",
       "      <td>-0.113204</td>\n",
       "      <td>0.165631</td>\n",
       "      <td>0.072226</td>\n",
       "      <td>-0.062578</td>\n",
       "    </tr>\n",
       "    <tr>\n",
       "      <th>USG%</th>\n",
       "      <td>0.360208</td>\n",
       "      <td>0.175660</td>\n",
       "      <td>0.385388</td>\n",
       "      <td>0.640750</td>\n",
       "      <td>0.679605</td>\n",
       "      <td>0.010554</td>\n",
       "      <td>0.367241</td>\n",
       "      <td>0.361442</td>\n",
       "      <td>-0.113204</td>\n",
       "      <td>1.000000</td>\n",
       "      <td>0.042538</td>\n",
       "      <td>-0.070175</td>\n",
       "      <td>0.401660</td>\n",
       "    </tr>\n",
       "    <tr>\n",
       "      <th>FTr</th>\n",
       "      <td>-0.237910</td>\n",
       "      <td>-0.288243</td>\n",
       "      <td>-0.242859</td>\n",
       "      <td>0.162703</td>\n",
       "      <td>0.129260</td>\n",
       "      <td>0.216285</td>\n",
       "      <td>0.075781</td>\n",
       "      <td>0.205201</td>\n",
       "      <td>0.165631</td>\n",
       "      <td>0.042538</td>\n",
       "      <td>1.000000</td>\n",
       "      <td>0.342189</td>\n",
       "      <td>0.101429</td>\n",
       "    </tr>\n",
       "    <tr>\n",
       "      <th>ORB%</th>\n",
       "      <td>-0.493753</td>\n",
       "      <td>-0.495055</td>\n",
       "      <td>-0.515489</td>\n",
       "      <td>0.123578</td>\n",
       "      <td>0.062955</td>\n",
       "      <td>0.270675</td>\n",
       "      <td>-0.002948</td>\n",
       "      <td>0.075457</td>\n",
       "      <td>0.072226</td>\n",
       "      <td>-0.070175</td>\n",
       "      <td>0.342189</td>\n",
       "      <td>1.000000</td>\n",
       "      <td>-0.001824</td>\n",
       "    </tr>\n",
       "    <tr>\n",
       "      <th>Salary</th>\n",
       "      <td>0.297830</td>\n",
       "      <td>0.095629</td>\n",
       "      <td>0.305277</td>\n",
       "      <td>0.621761</td>\n",
       "      <td>0.621313</td>\n",
       "      <td>0.126495</td>\n",
       "      <td>0.314001</td>\n",
       "      <td>0.531813</td>\n",
       "      <td>-0.062578</td>\n",
       "      <td>0.401660</td>\n",
       "      <td>0.101429</td>\n",
       "      <td>-0.001824</td>\n",
       "      <td>1.000000</td>\n",
       "    </tr>\n",
       "  </tbody>\n",
       "</table>\n",
       "</div>"
      ],
      "text/plain": [
       "              3P       3P%       3PA        2P       2PA       2P%      OBPM  \\\n",
       "3P      1.000000  0.582086  0.983281  0.205631  0.240480 -0.030498  0.336045   \n",
       "3P%     0.582086  1.000000  0.557037  0.050374  0.080480 -0.085068  0.279667   \n",
       "3PA     0.983281  0.557037  1.000000  0.214774  0.253699 -0.036385  0.301212   \n",
       "2P      0.205631  0.050374  0.214774  1.000000  0.982391  0.287724  0.418423   \n",
       "2PA     0.240480  0.080480  0.253699  0.982391  1.000000  0.169279  0.389741   \n",
       "2P%    -0.030498 -0.085068 -0.036385  0.287724  0.169279  1.000000  0.261784   \n",
       "OBPM    0.336045  0.279667  0.301212  0.418423  0.389741  0.261784  1.000000   \n",
       "OWS     0.383961  0.145574  0.344567  0.660821  0.601268  0.305668  0.477037   \n",
       "TOV%   -0.232308 -0.186756 -0.231197 -0.135175 -0.135776 -0.035222 -0.253617   \n",
       "USG%    0.360208  0.175660  0.385388  0.640750  0.679605  0.010554  0.367241   \n",
       "FTr    -0.237910 -0.288243 -0.242859  0.162703  0.129260  0.216285  0.075781   \n",
       "ORB%   -0.493753 -0.495055 -0.515489  0.123578  0.062955  0.270675 -0.002948   \n",
       "Salary  0.297830  0.095629  0.305277  0.621761  0.621313  0.126495  0.314001   \n",
       "\n",
       "             OWS      TOV%      USG%       FTr      ORB%    Salary  \n",
       "3P      0.383961 -0.232308  0.360208 -0.237910 -0.493753  0.297830  \n",
       "3P%     0.145574 -0.186756  0.175660 -0.288243 -0.495055  0.095629  \n",
       "3PA     0.344567 -0.231197  0.385388 -0.242859 -0.515489  0.305277  \n",
       "2P      0.660821 -0.135175  0.640750  0.162703  0.123578  0.621761  \n",
       "2PA     0.601268 -0.135776  0.679605  0.129260  0.062955  0.621313  \n",
       "2P%     0.305668 -0.035222  0.010554  0.216285  0.270675  0.126495  \n",
       "OBPM    0.477037 -0.253617  0.367241  0.075781 -0.002948  0.314001  \n",
       "OWS     1.000000 -0.170119  0.361442  0.205201  0.075457  0.531813  \n",
       "TOV%   -0.170119  1.000000 -0.113204  0.165631  0.072226 -0.062578  \n",
       "USG%    0.361442 -0.113204  1.000000  0.042538 -0.070175  0.401660  \n",
       "FTr     0.205201  0.165631  0.042538  1.000000  0.342189  0.101429  \n",
       "ORB%    0.075457  0.072226 -0.070175  0.342189  1.000000 -0.001824  \n",
       "Salary  0.531813 -0.062578  0.401660  0.101429 -0.001824  1.000000  "
      ]
     },
     "execution_count": 68,
     "metadata": {},
     "output_type": "execute_result"
    }
   ],
   "source": [
    "offense"
   ]
  },
  {
   "cell_type": "code",
   "execution_count": 69,
   "metadata": {
    "scrolled": true
   },
   "outputs": [
    {
     "data": {
      "text/plain": [
       "<AxesSubplot:>"
      ]
     },
     "execution_count": 69,
     "metadata": {},
     "output_type": "execute_result"
    },
    {
     "data": {
      "image/png": "[encoded data removed]",
      "text/plain": [
       "<Figure size 432x288 with 2 Axes>"
      ]
     },
     "metadata": {},
     "output_type": "display_data"
    }
   ],
   "source": [
    "sns.heatmap(offense, cmap=cmap, vmax=1, center=0,\n",
    "            square=True, linewidths=.5, cbar_kws={\"shrink\": .5})"
   ]
  },
  {
   "cell_type": "markdown",
   "metadata": {},
   "source": [
    "- 2P, 2PA, OWS, and USG% are most correlated with Salary\n",
    "    - 2P and 2PA indicates that high scorers are rewarded and USG% (which represents how involved a player is on a team) indicates that players which are active on the court are rewarded"
   ]
  },
  {
   "cell_type": "markdown",
   "metadata": {},
   "source": [
    "### Evaluating trends over time"
   ]
  },
  {
   "cell_type": "markdown",
   "metadata": {},
   "source": [
    "The last three years have seen dramatic changes to the way the NBA is played, with a larger emphasis on 3-point shooting, shots close to the basket, and free throw shooting"
   ]
  },
  {
   "cell_type": "code",
   "execution_count": 70,
   "metadata": {},
   "outputs": [
    {
     "data": {
      "image/png": "[encoded data removed]",
      "text/plain": [
       "<Figure size 432x288 with 1 Axes>"
      ]
     },
     "metadata": {},
     "output_type": "display_data"
    }
   ],
   "source": [
    "data_cop = data\n",
    "Past_Values = [data_cop.loc[data['Date']<=2017,'3P'].mean(), data_cop.loc[data['Date']<=2017,'3PA'].mean(),data_cop.loc[data['Date']<=2017,'3PAr'].mean()]\n",
    "Rec_Values = [data_cop.loc[data['Date']>2017,'3P'].mean(), data_cop.loc[data['Date']>2017,'3PA'].mean(),data_cop.loc[data['Date']>2017,'3PAr'].mean()]\n",
    "labels = ['3P','3PA','3PAr']\n",
    "\n",
    "x = np.arange(len(labels))  \n",
    "width = 0.35  \n",
    "\n",
    "fig, ax = plt.subplots()\n",
    "rects1 = ax.bar(x - width/2, Past_Values, width, label='Before 2017')\n",
    "rects2 = ax.bar(x + width/2, Rec_Values, width, label='After 2017')\n",
    "\n",
    "ax.set_ylabel('Average')\n",
    "ax.set_title('Average values of 3pt shooting')\n",
    "ax.set_xticks(x)\n",
    "ax.set_xticklabels(labels)\n",
    "ax.legend()\n",
    "fig.tight_layout()\n",
    "\n",
    "plt.show()"
   ]
  },
  {
   "cell_type": "markdown",
   "metadata": {},
   "source": [
    "Examine the variable correlations with salary which changed the most:"
   ]
  },
  {
   "cell_type": "code",
   "execution_count": 71,
   "metadata": {
    "scrolled": true
   },
   "outputs": [
    {
     "data": {
      "image/png": "[encoded data removed]",
      "text/plain": [
       "<Figure size 432x288 with 1 Axes>"
      ]
     },
     "metadata": {},
     "output_type": "display_data"
    }
   ],
   "source": [
    "recent = data.loc[data['Date']>2017]\n",
    "past = data.loc[data['Date']<=2017]\n",
    "all_corr_past = past.corr()\n",
    "all_corr_rec = recent.corr()\n",
    "diff = all_corr_rec - all_corr_past\n",
    "diff.sort_values(['Salary'], ascending=False,inplace=True)\n",
    "s1 = diff['Salary'].head()\n",
    "s2 = diff['Salary'].tail()\n",
    "plt.bar(pd.concat([s1,s2]).index.values, pd.concat([s1,s2]).values)\n",
    "plt.title('Differences in correlation with Salary after 2017')\n",
    "plt.show()"
   ]
  },
  {
   "cell_type": "markdown",
   "metadata": {},
   "source": [
    "- 3P and 3PA appear more correlated \n",
    "- BPM and OBPM appeared to be much less important, this may be reflective of a lower league-wide emphasis on traditional box-score statistics (which is what BPM uses for calculations), but it would require more analysis"
   ]
  },
  {
   "cell_type": "markdown",
   "metadata": {},
   "source": [
    "## Stratifying by Position"
   ]
  },
  {
   "cell_type": "markdown",
   "metadata": {},
   "source": [
    "We might expect that the variables most correlated with salary would not be the same for each position."
   ]
  },
  {
   "cell_type": "code",
   "execution_count": 72,
   "metadata": {},
   "outputs": [
    {
     "data": {
      "text/html": [
       "<div>\n",
       "<style scoped>\n",
       "    .dataframe tbody tr th:only-of-type {\n",
       "        vertical-align: middle;\n",
       "    }\n",
       "\n",
       "    .dataframe tbody tr th {\n",
       "        vertical-align: top;\n",
       "    }\n",
       "\n",
       "    .dataframe thead th {\n",
       "        text-align: right;\n",
       "    }\n",
       "</style>\n",
       "<table border=\"1\" class=\"dataframe\">\n",
       "  <thead>\n",
       "    <tr style=\"text-align: right;\">\n",
       "      <th></th>\n",
       "      <th>Salary</th>\n",
       "    </tr>\n",
       "    <tr>\n",
       "      <th>Pos</th>\n",
       "      <th></th>\n",
       "    </tr>\n",
       "  </thead>\n",
       "  <tbody>\n",
       "    <tr>\n",
       "      <th>C</th>\n",
       "      <td>7.742265</td>\n",
       "    </tr>\n",
       "    <tr>\n",
       "      <th>PF</th>\n",
       "      <td>7.065875</td>\n",
       "    </tr>\n",
       "    <tr>\n",
       "      <th>PG</th>\n",
       "      <td>6.751834</td>\n",
       "    </tr>\n",
       "    <tr>\n",
       "      <th>SF</th>\n",
       "      <td>6.723981</td>\n",
       "    </tr>\n",
       "    <tr>\n",
       "      <th>SG</th>\n",
       "      <td>6.151997</td>\n",
       "    </tr>\n",
       "  </tbody>\n",
       "</table>\n",
       "</div>"
      ],
      "text/plain": [
       "       Salary\n",
       "Pos          \n",
       "C    7.742265\n",
       "PF   7.065875\n",
       "PG   6.751834\n",
       "SF   6.723981\n",
       "SG   6.151997"
      ]
     },
     "execution_count": 72,
     "metadata": {},
     "output_type": "execute_result"
    }
   ],
   "source": [
    "pd.pivot_table(data, index='Pos', values='Salary') "
   ]
  },
  {
   "cell_type": "code",
   "execution_count": 73,
   "metadata": {},
   "outputs": [],
   "source": [
    "def stratify(pos):\n",
    "    global data\n",
    "    return data.loc[data['Pos']==pos]\n",
    "pg = stratify('PG')\n",
    "sg = stratify('SG')\n",
    "sf = stratify('SF')\n",
    "pf = stratify('PF')\n",
    "c = stratify('C')"
   ]
  },
  {
   "cell_type": "code",
   "execution_count": 74,
   "metadata": {},
   "outputs": [],
   "source": [
    "pg_vals = list(pg.corr().sort_values(['Salary'],ascending=False).iloc[1:6,-2].index.values)\n",
    "sg_vals = list(sg.corr().sort_values(['Salary'],ascending=False).iloc[1:6,-2].index.values)\n",
    "sf_vals = list(sf.corr().sort_values(['Salary'],ascending=False).iloc[1:6,-2].index.values)\n",
    "pf_vals = list(pf.corr().sort_values(['Salary'],ascending=False).iloc[1:6,-2].index.values)\n",
    "c_vals = list(c.corr().sort_values(['Salary'],ascending=False).iloc[1:6,-2].index.values)\n",
    "\n",
    "pos_vars = pd.DataFrame({'Position':list(data.Pos.unique()),'Variables':[pf_vals,pg_vals,c_vals,sg_vals,sf_vals]})"
   ]
  },
  {
   "cell_type": "code",
   "execution_count": 75,
   "metadata": {},
   "outputs": [
    {
     "data": {
      "text/html": [
       "<div>\n",
       "<style scoped>\n",
       "    .dataframe tbody tr th:only-of-type {\n",
       "        vertical-align: middle;\n",
       "    }\n",
       "\n",
       "    .dataframe tbody tr th {\n",
       "        vertical-align: top;\n",
       "    }\n",
       "\n",
       "    .dataframe thead th {\n",
       "        text-align: right;\n",
       "    }\n",
       "</style>\n",
       "<table border=\"1\" class=\"dataframe\">\n",
       "  <thead>\n",
       "    <tr style=\"text-align: right;\">\n",
       "      <th></th>\n",
       "      <th>Position</th>\n",
       "      <th>Variables</th>\n",
       "    </tr>\n",
       "  </thead>\n",
       "  <tbody>\n",
       "    <tr>\n",
       "      <th>0</th>\n",
       "      <td>PF</td>\n",
       "      <td>[FGA, PTS, FG, FT, 2PA]</td>\n",
       "    </tr>\n",
       "    <tr>\n",
       "      <th>1</th>\n",
       "      <td>PG</td>\n",
       "      <td>[PTS, FG, FGA, AST, FT]</td>\n",
       "    </tr>\n",
       "    <tr>\n",
       "      <th>2</th>\n",
       "      <td>C</td>\n",
       "      <td>[MP, DRB, PTS, FG, FGA]</td>\n",
       "    </tr>\n",
       "    <tr>\n",
       "      <th>3</th>\n",
       "      <td>SG</td>\n",
       "      <td>[PTS, FG, FGA, TOV, 2P]</td>\n",
       "    </tr>\n",
       "    <tr>\n",
       "      <th>4</th>\n",
       "      <td>SF</td>\n",
       "      <td>[AST, PTS, TOV, FGA, FG]</td>\n",
       "    </tr>\n",
       "  </tbody>\n",
       "</table>\n",
       "</div>"
      ],
      "text/plain": [
       "  Position                 Variables\n",
       "0       PF   [FGA, PTS, FG, FT, 2PA]\n",
       "1       PG   [PTS, FG, FGA, AST, FT]\n",
       "2        C   [MP, DRB, PTS, FG, FGA]\n",
       "3       SG   [PTS, FG, FGA, TOV, 2P]\n",
       "4       SF  [AST, PTS, TOV, FGA, FG]"
      ]
     },
     "execution_count": 75,
     "metadata": {},
     "output_type": "execute_result"
    }
   ],
   "source": [
    "pos_vars"
   ]
  },
  {
   "cell_type": "markdown",
   "metadata": {},
   "source": [
    "Many of the variables are shared across positions, such as scoring statistics like FG, FGA, PTS but Centers are the only positions which are rewarded for their rebounding."
   ]
  }
 ],
 "metadata": {
  "kernelspec": {
   "display_name": "Python 3",
   "language": "python",
   "name": "python3"
  },
  "language_info": {
   "codemirror_mode": {
    "name": "ipython",
    "version": 3
   },
   "file_extension": ".py",
   "mimetype": "text/x-python",
   "name": "python",
   "nbconvert_exporter": "python",
   "pygments_lexer": "ipython3",
   "version": "3.7.4"
  }
 },
 "nbformat": 4,
 "nbformat_minor": 4
}
